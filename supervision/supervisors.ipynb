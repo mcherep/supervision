{
 "cells": [
  {
   "cell_type": "markdown",
   "metadata": {},
   "source": [
    "# History of the Relations Between Supervisors and Students"
   ]
  },
  {
   "cell_type": "code",
   "execution_count": 1,
   "metadata": {},
   "outputs": [],
   "source": [
    "import pandas as pd"
   ]
  },
  {
   "cell_type": "code",
   "execution_count": 2,
   "metadata": {},
   "outputs": [
    {
     "data": {
      "text/html": [
       "<div>\n",
       "<style scoped>\n",
       "    .dataframe tbody tr th:only-of-type {\n",
       "        vertical-align: middle;\n",
       "    }\n",
       "\n",
       "    .dataframe tbody tr th {\n",
       "        vertical-align: top;\n",
       "    }\n",
       "\n",
       "    .dataframe thead th {\n",
       "        text-align: right;\n",
       "    }\n",
       "</style>\n",
       "<table border=\"1\" class=\"dataframe\">\n",
       "  <thead>\n",
       "    <tr style=\"text-align: right;\">\n",
       "      <th></th>\n",
       "      <th>supervisor</th>\n",
       "      <th>student</th>\n",
       "    </tr>\n",
       "  </thead>\n",
       "  <tbody>\n",
       "    <tr>\n",
       "      <th>0</th>\n",
       "      <td>A. Carl Helmholz</td>\n",
       "      <td>Kent Terwilliger</td>\n",
       "    </tr>\n",
       "    <tr>\n",
       "      <th>1</th>\n",
       "      <td>A. Carl Helmholz</td>\n",
       "      <td>Lawrence W. Jones</td>\n",
       "    </tr>\n",
       "    <tr>\n",
       "      <th>2</th>\n",
       "      <td>A. Carl Helmholz</td>\n",
       "      <td>Barry Barish</td>\n",
       "    </tr>\n",
       "    <tr>\n",
       "      <th>3</th>\n",
       "      <td>A. David Buckingham</td>\n",
       "      <td>Brian Orr</td>\n",
       "    </tr>\n",
       "    <tr>\n",
       "      <th>4</th>\n",
       "      <td>A. David Buckingham</td>\n",
       "      <td>Laurence D. Barron</td>\n",
       "    </tr>\n",
       "    <tr>\n",
       "      <th>5</th>\n",
       "      <td>A. P. Balachandran</td>\n",
       "      <td>Pierre Ramond</td>\n",
       "    </tr>\n",
       "    <tr>\n",
       "      <th>6</th>\n",
       "      <td>Aaron Courville</td>\n",
       "      <td>Ian Goodfellow</td>\n",
       "    </tr>\n",
       "    <tr>\n",
       "      <th>7</th>\n",
       "      <td>Abba Lerner</td>\n",
       "      <td>Robert Fogel</td>\n",
       "    </tr>\n",
       "    <tr>\n",
       "      <th>8</th>\n",
       "      <td>Abdus Salam</td>\n",
       "      <td>John R. Taylor</td>\n",
       "    </tr>\n",
       "    <tr>\n",
       "      <th>9</th>\n",
       "      <td>Abdus Salam</td>\n",
       "      <td>Yuval Ne'eman</td>\n",
       "    </tr>\n",
       "  </tbody>\n",
       "</table>\n",
       "</div>"
      ],
      "text/plain": [
       "            supervisor             student\n",
       "0     A. Carl Helmholz    Kent Terwilliger\n",
       "1     A. Carl Helmholz   Lawrence W. Jones\n",
       "2     A. Carl Helmholz        Barry Barish\n",
       "3  A. David Buckingham           Brian Orr\n",
       "4  A. David Buckingham  Laurence D. Barron\n",
       "5   A. P. Balachandran       Pierre Ramond\n",
       "6      Aaron Courville      Ian Goodfellow\n",
       "7          Abba Lerner        Robert Fogel\n",
       "8          Abdus Salam      John R. Taylor\n",
       "9          Abdus Salam       Yuval Ne'eman"
      ]
     },
     "execution_count": 2,
     "metadata": {},
     "output_type": "execute_result"
    }
   ],
   "source": [
    "supervision_df = pd.read_csv('relations.csv')\n",
    "# supervision_df.drop_duplicates(inplace=True)\n",
    "supervision_df.reset_index(drop=True, inplace=True)\n",
    "supervision_df.head(10)"
   ]
  },
  {
   "cell_type": "markdown",
   "metadata": {},
   "source": [
    "Number of unique people in the dataset"
   ]
  },
  {
   "cell_type": "code",
   "execution_count": 3,
   "metadata": {},
   "outputs": [
    {
     "data": {
      "text/plain": [
       "7072"
      ]
     },
     "execution_count": 3,
     "metadata": {},
     "output_type": "execute_result"
    }
   ],
   "source": [
    "len(set(supervision_df.student.tolist() + supervision_df.supervisor.tolist()))"
   ]
  },
  {
   "cell_type": "markdown",
   "metadata": {},
   "source": [
    "Number of unique students in the dataset"
   ]
  },
  {
   "cell_type": "code",
   "execution_count": 4,
   "metadata": {},
   "outputs": [
    {
     "data": {
      "text/plain": [
       "6519"
      ]
     },
     "execution_count": 4,
     "metadata": {},
     "output_type": "execute_result"
    }
   ],
   "source": [
    "len(supervision_df.student.unique())"
   ]
  },
  {
   "cell_type": "markdown",
   "metadata": {},
   "source": [
    "Number of unique supervisors in the dataset"
   ]
  },
  {
   "cell_type": "code",
   "execution_count": 5,
   "metadata": {},
   "outputs": [
    {
     "data": {
      "text/plain": [
       "2864"
      ]
     },
     "execution_count": 5,
     "metadata": {},
     "output_type": "execute_result"
    }
   ],
   "source": [
    "len(supervision_df.supervisor.unique())"
   ]
  },
  {
   "cell_type": "markdown",
   "metadata": {},
   "source": [
    "## TODO\n",
    "\n",
    "- Set attributes for each (i.e. person) such as field, birthday, gender etc\n",
    "- Interesting to see if the different components are associated with different fields, countries, generations...\n",
    "- Study how small we can make the seed and still manage to connect most people, as well as discovering who are the most important nodes\n",
    "- Homophily, how likely two people that have the same attribute are linked?\n",
    "- ~~Remove duplicated with similar names searching for names that match in high percentage (e.g. Robert Solow and Robert M. Solow)~~"
   ]
  },
  {
   "cell_type": "markdown",
   "metadata": {},
   "source": [
    "## Build the Graph"
   ]
  },
  {
   "cell_type": "code",
   "execution_count": 6,
   "metadata": {},
   "outputs": [],
   "source": [
    "import networkx as nx\n",
    "import collections\n",
    "import matplotlib.pyplot as plt\n",
    "from operator import itemgetter\n",
    "from community import community_louvain"
   ]
  },
  {
   "cell_type": "code",
   "execution_count": 7,
   "metadata": {},
   "outputs": [
    {
     "name": "stdout",
     "output_type": "stream",
     "text": [
      "Name: \n",
      "Type: Graph\n",
      "Number of nodes: 7072\n",
      "Number of edges: 8115\n",
      "Average degree:   2.2950\n"
     ]
    }
   ],
   "source": [
    "graph = nx.from_pandas_edgelist(supervision_df, 'supervisor', 'student', edge_attr=None, create_using = nx.Graph())\n",
    "print(nx.info(graph))"
   ]
  },
  {
   "cell_type": "code",
   "execution_count": 8,
   "metadata": {},
   "outputs": [
    {
     "name": "stdout",
     "output_type": "stream",
     "text": [
      "Network sparsity: 0.0003\n"
     ]
    }
   ],
   "source": [
    "print(\"Network sparsity: %.4f\" %nx.density(graph))"
   ]
  },
  {
   "cell_type": "code",
   "execution_count": 9,
   "metadata": {},
   "outputs": [
    {
     "name": "stdout",
     "output_type": "stream",
     "text": [
      "The graph contains 84 connected components\n"
     ]
    }
   ],
   "source": [
    "comp = list(nx.connected_components(graph))\n",
    "print('The graph contains', len(comp), 'connected components')"
   ]
  },
  {
   "cell_type": "code",
   "execution_count": 10,
   "metadata": {},
   "outputs": [
    {
     "name": "stdout",
     "output_type": "stream",
     "text": [
      "The largest component has  6776 nodes accounting for 95.81 % of the nodes\n"
     ]
    }
   ],
   "source": [
    "largest_comp = max(comp, key=len)\n",
    "percentage_lcc = len(largest_comp)/ graph.number_of_nodes() * 100\n",
    "print('The largest component has ', len(largest_comp), 'nodes', 'accounting for %.2f'% percentage_lcc, '% of the nodes')"
   ]
  },
  {
   "cell_type": "code",
   "execution_count": 11,
   "metadata": {},
   "outputs": [
    {
     "name": "stdout",
     "output_type": "stream",
     "text": [
      "Shortest path between Einstein and Feynman: ['Albert Einstein', 'Hans Reichenbach', 'Arnold Sommerfeld', 'Karl Herzfeld', 'John Archibald Wheeler', 'Richard Feynman']\n"
     ]
    }
   ],
   "source": [
    "path = nx.shortest_path(graph, source=\"Albert Einstein\", target=\"Richard Feynman\")\n",
    "print(\"Shortest path between Einstein and Feynman:\", path)"
   ]
  },
  {
   "cell_type": "code",
   "execution_count": 12,
   "metadata": {},
   "outputs": [],
   "source": [
    "# WARNING: It is computationally expensive\n",
    "# take the largest component and analyse its diameter = longest shortest path \n",
    "# lcc_graph = graph.subgraph(largest_comp)\n",
    "# diameter = nx.diameter(lcc_graph)\n",
    "# print(\"The diameter of the largest component is\", diameter)"
   ]
  },
  {
   "cell_type": "code",
   "execution_count": 13,
   "metadata": {
    "scrolled": true
   },
   "outputs": [
    {
     "name": "stdout",
     "output_type": "stream",
     "text": [
      "0.015\n"
     ]
    }
   ],
   "source": [
    "print('%.3f'%nx.transitivity(graph))"
   ]
  },
  {
   "cell_type": "code",
   "execution_count": 14,
   "metadata": {
    "scrolled": true
   },
   "outputs": [
    {
     "name": "stdout",
     "output_type": "stream",
     "text": [
      "Arnold Sommerfeld  knows  44  people\n",
      "David Hilbert  knows  37  people\n",
      "Dimitris Bertsimas  knows  34  people\n",
      "Robert Solow  knows  30  people\n",
      "Max Born  knows  29  people\n",
      "Felix Klein  knows  28  people\n",
      "Alonzo Church  knows  27  people\n",
      "Franz Boas  knows  27  people\n",
      "Abdus Salam  knows  25  people\n",
      "J. J. Thomson  knows  24  people\n"
     ]
    }
   ],
   "source": [
    "degrees = dict(graph.degree(graph.nodes()))\n",
    "sorted_degree = sorted(degrees.items(), key=itemgetter(1), reverse=True)\n",
    "\n",
    "# And the top 10 most popular\n",
    "for person, degree in sorted_degree[:10]:\n",
    "    print(person, ' knows ', degree, ' people')"
   ]
  },
  {
   "cell_type": "code",
   "execution_count": 27,
   "metadata": {},
   "outputs": [
    {
     "name": "stdout",
     "output_type": "stream",
     "text": [
      "Arnold Sommerfeld  knows  44  people\n",
      "David Hilbert  knows  37  people\n",
      "Dimitris Bertsimas  knows  34  people\n",
      "Robert Solow  knows  30  people\n",
      "Max Born  knows  29  people\n",
      "Felix Klein  knows  28  people\n",
      "Alonzo Church  knows  27  people\n",
      "Franz Boas  knows  27  people\n",
      "Abdus Salam  knows  25  people\n",
      "J. J. Thomson  knows  24  people\n",
      "Robert Bunsen  knows  23  people\n",
      "John Archibald Wheeler  knows  23  people\n",
      "Justus Liebig  knows  23  people\n",
      "Walther Nernst  knows  22  people\n",
      "Karl Weierstrass  knows  21  people\n",
      "Enrico Fermi  knows  21  people\n",
      "Marvin Minsky  knows  20  people\n",
      "Andrey Kolmogorov  knows  20  people\n",
      "Carl Gauss  knows  20  people\n",
      "Ernst Kummer  knows  20  people\n",
      "Salomon Bochner  knows  19  people\n",
      "Hermann Helmholtz  knows  19  people\n",
      "Manuel Blum  knows  19  people\n",
      "Richard Karp  knows  18  people\n",
      "Werner Heisenberg  knows  18  people\n",
      "Chen Xingshen  knows  18  people\n",
      "Weierstraß  knows  18  people\n",
      "Karl Weierstraß  knows  18  people\n",
      "Solomon Lefschetz  knows  18  people\n",
      "Max Planck  knows  17  people\n",
      "G. H. Hardy  knows  17  people\n",
      "Peter Dirichlet  knows  17  people\n",
      "Heinrich Magnus  knows  17  people\n",
      "Olivier Blanchard  knows  17  people\n",
      "Adolph Wilhelm Hermann Kolbe  knows  16  people\n",
      "Barry Mazur  knows  16  people\n",
      "Leonard Dickson  knows  16  people\n",
      "Edmund Landau  knows  16  people\n",
      "John Tate  knows  16  people\n",
      "Hermann Kolbe  knows  16  people\n",
      "Garrett Birkhoff  knows  16  people\n",
      "Kenneth Arrow  knows  16  people\n",
      "Julian Schwinger  knows  16  people\n",
      "Paul Ehrenfest  knows  16  people\n",
      "Theodore von Kármán  knows  16  people\n",
      "Shiing-Shen Chern  knows  16  people\n",
      "Nikolai Luzin  knows  15  people\n",
      "George Birkhoff  knows  15  people\n",
      "Issai Schur  knows  15  people\n",
      "Friedrich Schottky  knows  15  people\n"
     ]
    }
   ],
   "source": [
    "# And the top 10 most popular\n",
    "for person, degree in sorted_degree[:50]:\n",
    "    print(person, ' knows ', degree, ' people')"
   ]
  },
  {
   "cell_type": "markdown",
   "metadata": {},
   "source": [
    "Note: this is an undirected graph. If you were to have a directed one, use separate metrics for indegree and outdegree."
   ]
  },
  {
   "cell_type": "code",
   "execution_count": 15,
   "metadata": {},
   "outputs": [
    {
     "data": {
      "text/plain": [
       "Text(0.5, 1.0, 'Degree distribution for the network')"
      ]
     },
     "execution_count": 15,
     "metadata": {},
     "output_type": "execute_result"
    },
    {
     "data": {
      "image/png": "[encoded data removed]",
      "text/plain": [
       "<Figure size 432x288 with 1 Axes>"
      ]
     },
     "metadata": {
      "needs_background": "light"
     },
     "output_type": "display_data"
    }
   ],
   "source": [
    "degree_seq = [d[1] for d in sorted_degree]\n",
    "degreeCount = collections.Counter(degree_seq)\n",
    "degreeCount = pd.DataFrame.from_dict(degreeCount, orient='index').reset_index()\n",
    "fig = plt.figure()\n",
    "ax = plt.gca()\n",
    "ax.plot(degreeCount['index'], degreeCount[0], 'o', c='blue', markeredgecolor='none', markersize= 4)\n",
    "plt.ylabel('Frequency')\n",
    "plt.xlabel('Degree')\n",
    "plt.title('Degree distribution for the network')"
   ]
  },
  {
   "cell_type": "code",
   "execution_count": 20,
   "metadata": {},
   "outputs": [
    {
     "name": "stdout",
     "output_type": "stream",
     "text": [
      "David Hilbert  has betweeness: 0.158\n",
      "Max Born  has betweeness: 0.153\n",
      "Hans Reichenbach  has betweeness: 0.120\n",
      "Arnold Sommerfeld  has betweeness: 0.119\n",
      "Hermann Helmholtz  has betweeness: 0.085\n",
      "E. H. Moore  has betweeness: 0.072\n",
      "J. J. Thomson  has betweeness: 0.071\n",
      "Solomon Lefschetz  has betweeness: 0.070\n",
      "John von Neumann  has betweeness: 0.058\n",
      "Ludwig Boltzmann  has betweeness: 0.056\n"
     ]
    }
   ],
   "source": [
    "# WARNING: It's computationally expensive\n",
    "betweenness = nx.betweenness_centrality(graph)\n",
    "# Assign each to an attribute in your network\n",
    "nx.set_node_attributes(graph, betweenness, 'betweenness')\n",
    "sorted_betweenness = sorted(betweenness.items(), key=itemgetter(1), reverse=True)\n",
    "\n",
    "for person, bw in sorted_betweenness[:10]:\n",
    "    print(person, ' has betweeness: %.3f' %bw)"
   ]
  },
  {
   "cell_type": "code",
   "execution_count": 18,
   "metadata": {},
   "outputs": [],
   "source": [
    "partition = community_louvain.best_partition(graph)\n",
    "# add it as an attribute to the nodes\n",
    "for n in graph.nodes:\n",
    "    graph.nodes[n][\"louvain\"] = partition[n]"
   ]
  },
  {
   "cell_type": "code",
   "execution_count": 21,
   "metadata": {
    "scrolled": true
   },
   "outputs": [
    {
     "name": "stdout",
     "output_type": "stream",
     "text": [
      "Marvin Minsky\n",
      "Avrim Blum\n",
      "Shuchi Chawla\n",
      "Katrina Ligett\n",
      "John Langford (computer scientist)\n",
      "Santosh Vempala\n",
      "Adam Tauman Kalai\n",
      "Axel Thue\n",
      "Thoralf Skolem\n",
      "Berthold K. P. Horn\n",
      "Matthew T. Mason\n",
      "Shahriar Negahdaripour\n",
      "Michael A. Gennert\n",
      "Marc Raibert\n",
      "Carl Hewitt\n",
      "Irene Greif\n",
      "Akinori Yonezawa\n",
      "Gul Agha (computer scientist)\n",
      "Henry Baker (computer scientist)\n",
      "William Clinger (computer scientist)\n",
      "Claude Shannon\n",
      "Ivan Sutherland\n",
      "W. Daniel Hillis\n",
      "Bert Sutherland\n",
      "Danny Hillis\n",
      "David Park (computer scientist)\n",
      "Mike Paterson\n",
      "David Waltz\n",
      "Ron Sun\n",
      "Stephen E. Cross\n",
      "Tim Finin\n",
      "Donald Knuth\n",
      "Vaughan Pratt\n",
      "Michael Fredman\n",
      "Robert Tarjan\n",
      "Scott Kim\n",
      "Andrei Broder\n",
      "Jeffrey Vitter\n",
      "Robert Sedgewick (computer scientist)\n",
      "Leonidas J. Guibas\n",
      "Elling Holst\n",
      "Frank Lauren Hitchcock\n",
      "Frank Smithies\n",
      "Dona Strauss\n",
      "Graham Allan\n",
      "Seymour Papert\n",
      "John Robert Ringrose\n",
      "Edward Norman Dancer\n",
      "Trevor West\n",
      "Gerald Sussman\n",
      "David A. McAllester\n",
      "Scott Fahlman\n",
      "Ken Forbus\n",
      "Guy L. Steele Jr.\n",
      "Thomas Ransford\n",
      "Hartley Rogers Jr.\n",
      "James H. Clark\n",
      "Henri Gouraud (computer scientist)\n",
      "Bui Tuong Phong\n",
      "Danny Cohen (engineer)\n",
      "Franklin C. Crow\n",
      "Leslie Valiant\n",
      "Dan Roth\n",
      "Mark Jerrum\n",
      "Michael Kearns (computer scientist)\n",
      "Marshall Hall (mathematician)\n",
      "Robert Calderbank\n",
      "Robert McEliece\n",
      "E. T. Parker\n",
      "Luc Steels\n",
      "James Robert Slagle\n",
      "Benjamin Kuipers\n",
      "Daniel Bobrow\n",
      "K. Eric Drexler\n",
      "William A. Martin\n",
      "Warren Teitelman\n",
      "Joel Moses\n",
      "Eugene Charniak\n",
      "Bertram Raphael\n",
      "Patrick Winston\n",
      "Michael Fellows\n",
      "John Iacono\n",
      "Mitchel Resnick\n",
      "Jay Silver\n",
      "Amy Bruckman\n",
      "Randal Pinkett\n",
      "Philip Greenspun\n",
      "Monika Henzinger\n",
      "Ramesh Sitaraman\n",
      "Thomas Lengauer\n",
      "Jeff Westbrook\n",
      "Daniel Sleator\n",
      "Robert W. Floyd\n",
      "Ronald Rivest\n",
      "Ron Pinter\n",
      "Burt Kaliski\n",
      "Anna Lysyanskaya\n",
      "Robert Schapire\n",
      "Alan Sherman\n",
      "David S. Touretzky\n",
      "Michael Witbrock\n",
      "Idit Harel Caperton\n",
      "David Williamson Shaffer\n",
      "Christoph Bock\n",
      "Øystein Ore\n",
      "Tomas Lozano-Perez\n",
      "Grace Hopper\n"
     ]
    }
   ],
   "source": [
    "cluster = partition['Claude Shannon']\n",
    "# Take all the nodes that belong to the cluster\n",
    "members_c = [q for q in graph.nodes if partition[q] == cluster]\n",
    "for person in members_c:\n",
    "    print(person)"
   ]
  },
  {
   "cell_type": "markdown",
   "metadata": {},
   "source": [
    "People with the most number of bridge edges"
   ]
  },
  {
   "cell_type": "code",
   "execution_count": 16,
   "metadata": {
    "scrolled": false
   },
   "outputs": [
    {
     "data": {
      "text/html": [
       "<div>\n",
       "<style scoped>\n",
       "    .dataframe tbody tr th:only-of-type {\n",
       "        vertical-align: middle;\n",
       "    }\n",
       "\n",
       "    .dataframe tbody tr th {\n",
       "        vertical-align: top;\n",
       "    }\n",
       "\n",
       "    .dataframe thead th {\n",
       "        text-align: right;\n",
       "    }\n",
       "</style>\n",
       "<table border=\"1\" class=\"dataframe\">\n",
       "  <thead>\n",
       "    <tr style=\"text-align: right;\">\n",
       "      <th></th>\n",
       "      <th>dst</th>\n",
       "    </tr>\n",
       "    <tr>\n",
       "      <th>src</th>\n",
       "      <th></th>\n",
       "    </tr>\n",
       "  </thead>\n",
       "  <tbody>\n",
       "    <tr>\n",
       "      <th>Dimitris Bertsimas</th>\n",
       "      <td>32</td>\n",
       "    </tr>\n",
       "    <tr>\n",
       "      <th>Franz Boas</th>\n",
       "      <td>25</td>\n",
       "    </tr>\n",
       "    <tr>\n",
       "      <th>Robert Solow</th>\n",
       "      <td>21</td>\n",
       "    </tr>\n",
       "    <tr>\n",
       "      <th>Alonzo Church</th>\n",
       "      <td>19</td>\n",
       "    </tr>\n",
       "    <tr>\n",
       "      <th>Arnold Sommerfeld</th>\n",
       "      <td>19</td>\n",
       "    </tr>\n",
       "    <tr>\n",
       "      <th>David Hilbert</th>\n",
       "      <td>18</td>\n",
       "    </tr>\n",
       "    <tr>\n",
       "      <th>John Archibald Wheeler</th>\n",
       "      <td>16</td>\n",
       "    </tr>\n",
       "    <tr>\n",
       "      <th>Felix Klein</th>\n",
       "      <td>15</td>\n",
       "    </tr>\n",
       "    <tr>\n",
       "      <th>Salomon Bochner</th>\n",
       "      <td>14</td>\n",
       "    </tr>\n",
       "    <tr>\n",
       "      <th>Garrett Birkhoff</th>\n",
       "      <td>13</td>\n",
       "    </tr>\n",
       "    <tr>\n",
       "      <th>Richard Karp</th>\n",
       "      <td>13</td>\n",
       "    </tr>\n",
       "    <tr>\n",
       "      <th>John Tate</th>\n",
       "      <td>13</td>\n",
       "    </tr>\n",
       "    <tr>\n",
       "      <th>Elias Stein</th>\n",
       "      <td>12</td>\n",
       "    </tr>\n",
       "    <tr>\n",
       "      <th>Marvin Minsky</th>\n",
       "      <td>12</td>\n",
       "    </tr>\n",
       "    <tr>\n",
       "      <th>Theodore von Kármán</th>\n",
       "      <td>11</td>\n",
       "    </tr>\n",
       "    <tr>\n",
       "      <th>Noam Chomsky</th>\n",
       "      <td>11</td>\n",
       "    </tr>\n",
       "    <tr>\n",
       "      <th>Irving Segal</th>\n",
       "      <td>11</td>\n",
       "    </tr>\n",
       "    <tr>\n",
       "      <th>Hans Bethe</th>\n",
       "      <td>11</td>\n",
       "    </tr>\n",
       "    <tr>\n",
       "      <th>Barry Mazur</th>\n",
       "      <td>11</td>\n",
       "    </tr>\n",
       "    <tr>\n",
       "      <th>Yakov Sinai</th>\n",
       "      <td>10</td>\n",
       "    </tr>\n",
       "  </tbody>\n",
       "</table>\n",
       "</div>"
      ],
      "text/plain": [
       "                        dst\n",
       "src                        \n",
       "Dimitris Bertsimas       32\n",
       "Franz Boas               25\n",
       "Robert Solow             21\n",
       "Alonzo Church            19\n",
       "Arnold Sommerfeld        19\n",
       "David Hilbert            18\n",
       "John Archibald Wheeler   16\n",
       "Felix Klein              15\n",
       "Salomon Bochner          14\n",
       "Garrett Birkhoff         13\n",
       "Richard Karp             13\n",
       "John Tate                13\n",
       "Elias Stein              12\n",
       "Marvin Minsky            12\n",
       "Theodore von Kármán      11\n",
       "Noam Chomsky             11\n",
       "Irving Segal             11\n",
       "Hans Bethe               11\n",
       "Barry Mazur              11\n",
       "Yakov Sinai              10"
      ]
     },
     "execution_count": 16,
     "metadata": {},
     "output_type": "execute_result"
    }
   ],
   "source": [
    "pd.DataFrame(list(nx.bridges(graph))).rename(columns={0: 'src', 1: 'dst'}).groupby('src').count().sort_values(by='dst', ascending=False).head(20)"
   ]
  }
 ],
 "metadata": {
  "kernelspec": {
   "display_name": "Python 3",
   "language": "python",
   "name": "python3"
  },
  "language_info": {
   "codemirror_mode": {
    "name": "ipython",
    "version": 3
   },
   "file_extension": ".py",
   "mimetype": "text/x-python",
   "name": "python",
   "nbconvert_exporter": "python",
   "pygments_lexer": "ipython3",
   "version": "3.8.1"
  }
 },
 "nbformat": 4,
 "nbformat_minor": 4
}
