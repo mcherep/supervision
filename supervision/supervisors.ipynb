{
 "cells": [
  {
   "cell_type": "markdown",
   "metadata": {},
   "source": [
    "# History of the Supervisor-Student Relationship\n",
    "\n",
    "The goal of this project is to analyze famous supervisor-student relationships with data scrapped from the Wikipedia. I intend to figure out who can be considered the best supervisors in history, those whose supervised students that ended up supervising more (and so on).\n",
    "\n",
    "The code for scrapping the Wikipedia is available at `scraper.py` and it uses as seed a pool of relevant people (i.e. Nobel prize laureates, Turing award winners etc) which can be found in `seed.json`. The data collected has been cleaned and it's ready to be used. I haven't published the dataset yet, since I want to further improve it, but contact me if you want it."
   ]
  },
  {
   "cell_type": "code",
   "execution_count": 1,
   "metadata": {},
   "outputs": [],
   "source": [
    "import pandas as pd\n",
    "import networkx as nx\n",
    "import collections\n",
    "import matplotlib.pyplot as plt\n",
    "from operator import itemgetter\n",
    "from networkx.drawing.nx_agraph import write_dot, graphviz_layout"
   ]
  },
  {
   "cell_type": "code",
   "execution_count": 2,
   "metadata": {},
   "outputs": [
    {
     "data": {
      "text/html": [
       "<div>\n",
       "<style scoped>\n",
       "    .dataframe tbody tr th:only-of-type {\n",
       "        vertical-align: middle;\n",
       "    }\n",
       "\n",
       "    .dataframe tbody tr th {\n",
       "        vertical-align: top;\n",
       "    }\n",
       "\n",
       "    .dataframe thead th {\n",
       "        text-align: right;\n",
       "    }\n",
       "</style>\n",
       "<table border=\"1\" class=\"dataframe\">\n",
       "  <thead>\n",
       "    <tr style=\"text-align: right;\">\n",
       "      <th></th>\n",
       "      <th>supervisor</th>\n",
       "      <th>student</th>\n",
       "    </tr>\n",
       "  </thead>\n",
       "  <tbody>\n",
       "    <tr>\n",
       "      <th>0</th>\n",
       "      <td>A. Carl Helmholz</td>\n",
       "      <td>Kent Terwilliger</td>\n",
       "    </tr>\n",
       "    <tr>\n",
       "      <th>1</th>\n",
       "      <td>A. Carl Helmholz</td>\n",
       "      <td>Lawrence W. Jones</td>\n",
       "    </tr>\n",
       "    <tr>\n",
       "      <th>2</th>\n",
       "      <td>A. Carl Helmholz</td>\n",
       "      <td>Barry Barish</td>\n",
       "    </tr>\n",
       "    <tr>\n",
       "      <th>3</th>\n",
       "      <td>A. David Buckingham</td>\n",
       "      <td>Brian Orr</td>\n",
       "    </tr>\n",
       "    <tr>\n",
       "      <th>4</th>\n",
       "      <td>A. David Buckingham</td>\n",
       "      <td>Laurence D. Barron</td>\n",
       "    </tr>\n",
       "  </tbody>\n",
       "</table>\n",
       "</div>"
      ],
      "text/plain": [
       "            supervisor             student\n",
       "0     A. Carl Helmholz    Kent Terwilliger\n",
       "1     A. Carl Helmholz   Lawrence W. Jones\n",
       "2     A. Carl Helmholz        Barry Barish\n",
       "3  A. David Buckingham           Brian Orr\n",
       "4  A. David Buckingham  Laurence D. Barron"
      ]
     },
     "execution_count": 2,
     "metadata": {},
     "output_type": "execute_result"
    }
   ],
   "source": [
    "# Load csv with all relationships\n",
    "supervision_df = pd.read_csv('relations.csv')\n",
    "supervision_df.reset_index(drop=True, inplace=True)\n",
    "supervision_df.head()"
   ]
  },
  {
   "cell_type": "markdown",
   "metadata": {},
   "source": [
    "First, let's find out a few numbers about the dataset."
   ]
  },
  {
   "cell_type": "code",
   "execution_count": 3,
   "metadata": {},
   "outputs": [
    {
     "name": "stdout",
     "output_type": "stream",
     "text": [
      "The total number of unique people in the dataset is 7070\n"
     ]
    }
   ],
   "source": [
    "unique_people = len(set(supervision_df.student.tolist() + supervision_df.supervisor.tolist()))\n",
    "print('The total number of unique people in the dataset is {}'.format(unique_people))"
   ]
  },
  {
   "cell_type": "code",
   "execution_count": 4,
   "metadata": {},
   "outputs": [
    {
     "name": "stdout",
     "output_type": "stream",
     "text": [
      "The total number of unique students in the dataset is 6517\n"
     ]
    }
   ],
   "source": [
    "unique_students = len(supervision_df.student.unique())\n",
    "print('The total number of unique students in the dataset is {}'.format(unique_students))"
   ]
  },
  {
   "cell_type": "code",
   "execution_count": 5,
   "metadata": {},
   "outputs": [
    {
     "name": "stdout",
     "output_type": "stream",
     "text": [
      "The total number of unique supervisors in the dataset is 2862\n"
     ]
    }
   ],
   "source": [
    "unique_supervisors = len(supervision_df.supervisor.unique())\n",
    "print('The total number of unique supervisors in the dataset is {}'.format(unique_supervisors))"
   ]
  },
  {
   "cell_type": "markdown",
   "metadata": {},
   "source": [
    "The obvious structure for these supervisor-student relationships is a **graph**. However, it could be an undirected or directed graph. I think both graphs make sense in their own way, so I'll explore both and explain why."
   ]
  },
  {
   "cell_type": "markdown",
   "metadata": {},
   "source": [
    "## 1. Undirected Graph\n",
    "\n",
    "A graph is undirected if all the edges are bidirectional. At first sight, it makes more sense to create a directed graph since the relationship at hand is unidirectional. Nonetheless, analyzing an undirected graph gives interesting results because it considers as important to be a supervisor than a student."
   ]
  },
  {
   "cell_type": "code",
   "execution_count": 6,
   "metadata": {},
   "outputs": [
    {
     "name": "stdout",
     "output_type": "stream",
     "text": [
      "Name: \n",
      "Type: Graph\n",
      "Number of nodes: 7070\n",
      "Number of edges: 8071\n",
      "Average degree:   2.2832\n"
     ]
    }
   ],
   "source": [
    "# Create graph using a Pandas dataframe\n",
    "graph = nx.from_pandas_edgelist(supervision_df, 'supervisor', 'student', edge_attr=None, create_using = nx.Graph())\n",
    "print(nx.info(graph))"
   ]
  },
  {
   "cell_type": "markdown",
   "metadata": {},
   "source": [
    "On average, most people only have a supervisor and a student"
   ]
  },
  {
   "cell_type": "markdown",
   "metadata": {},
   "source": [
    "### 1.1 Density"
   ]
  },
  {
   "cell_type": "markdown",
   "metadata": {},
   "source": [
    "The density $\\mathcal{D} \\in [0,1]$ of a graph represents the number of edges in proportion to the number of nodes. A dense graph is such where the number of edges is close to the maximum possible."
   ]
  },
  {
   "cell_type": "code",
   "execution_count": 7,
   "metadata": {},
   "outputs": [
    {
     "name": "stdout",
     "output_type": "stream",
     "text": [
      "Graph density: 0.0003\n"
     ]
    }
   ],
   "source": [
    "print(\"Graph density: %.4f\" %nx.density(graph))"
   ]
  },
  {
   "cell_type": "markdown",
   "metadata": {},
   "source": [
    "As we can see, the graph is sparse, which means we don't have many edges."
   ]
  },
  {
   "cell_type": "markdown",
   "metadata": {},
   "source": [
    "### 1.2 Components"
   ]
  },
  {
   "cell_type": "markdown",
   "metadata": {},
   "source": [
    "A connected component in a graph is a subgraph where all vertices are reachable from each other."
   ]
  },
  {
   "cell_type": "code",
   "execution_count": 8,
   "metadata": {},
   "outputs": [
    {
     "name": "stdout",
     "output_type": "stream",
     "text": [
      "The graph contains 84 connected components\n"
     ]
    }
   ],
   "source": [
    "components = list(nx.connected_components(graph))\n",
    "print('The graph contains', len(components), 'connected components')"
   ]
  },
  {
   "cell_type": "code",
   "execution_count": 9,
   "metadata": {},
   "outputs": [
    {
     "name": "stdout",
     "output_type": "stream",
     "text": [
      "The largest component has  6774 nodes accounting for 95.81 % of the nodes\n"
     ]
    }
   ],
   "source": [
    "largest_comp = max(components, key=len)\n",
    "percentage_lc = len(largest_comp)/ graph.number_of_nodes() * 100\n",
    "print('The largest component has ', len(largest_comp), 'nodes', 'accounting for %.2f'% percentage_lc, '% of the nodes')"
   ]
  },
  {
   "cell_type": "code",
   "execution_count": 10,
   "metadata": {},
   "outputs": [],
   "source": [
    "# Save largest component graph for later\n",
    "lc_graph = graph.subgraph(largest_comp)"
   ]
  },
  {
   "cell_type": "markdown",
   "metadata": {},
   "source": [
    "Our graph has 84 connected components, but one accounts for 95.81% of the total size. This already is quite impressive, since we started from a pool of people from different fields (e.g. chemistry and computer science). This shows how mathematics has divided into more specific fields such as physics, economics etc. The forefathers, as we'll see, are common to every field."
   ]
  },
  {
   "cell_type": "markdown",
   "metadata": {},
   "source": [
    "### 1.3 Diameter"
   ]
  },
  {
   "cell_type": "markdown",
   "metadata": {},
   "source": [
    "The diameter of a graph is the maximum eccentricity of any node in the graph. The eccentricity of a node $v$ is the maximum distance from node $v$ to any other node in the graph."
   ]
  },
  {
   "cell_type": "code",
   "execution_count": 11,
   "metadata": {},
   "outputs": [
    {
     "name": "stdout",
     "output_type": "stream",
     "text": [
      "The diameter of the largest component is 37\n"
     ]
    }
   ],
   "source": [
    "# WARNING: It is computationally expensive\n",
    "# Diameter of the largest connected component of the graph\n",
    "diameter = nx.diameter(lc_graph)\n",
    "print(\"The diameter of the largest component is\", diameter)"
   ]
  },
  {
   "cell_type": "markdown",
   "metadata": {},
   "source": [
    "### 1.4 Degree"
   ]
  },
  {
   "cell_type": "markdown",
   "metadata": {},
   "source": [
    "The degree of a node $v$ in an undirected graph is the number of edges that connects $v$ with other nodes. Let's find out who are the people with the most connections (either students or supervisors)."
   ]
  },
  {
   "cell_type": "code",
   "execution_count": 12,
   "metadata": {
    "scrolled": true
   },
   "outputs": [
    {
     "name": "stdout",
     "output_type": "stream",
     "text": [
      "1 Arnold Sommerfeld  is related to  44  people\n",
      "2 David Hilbert  is related to  37  people\n",
      "3 Dimitris Bertsimas  is related to  34  people\n",
      "4 Robert Solow  is related to  30  people\n",
      "5 Max Born  is related to  29  people\n",
      "6 Felix Klein  is related to  28  people\n",
      "7 Alonzo Church  is related to  27  people\n",
      "8 Franz Boas  is related to  27  people\n",
      "9 Abdus Salam  is related to  25  people\n",
      "10 J. J. Thomson  is related to  24  people\n",
      "11 John Archibald Wheeler  is related to  23  people\n",
      "12 Justus Liebig  is related to  23  people\n",
      "13 Walther Nernst  is related to  22  people\n",
      "14 Robert Bunsen  is related to  22  people\n",
      "15 Karl Weierstrass  is related to  21  people\n"
     ]
    }
   ],
   "source": [
    "degrees = dict(graph.degree(graph.nodes()))\n",
    "sorted_degree = sorted(degrees.items(), key=itemgetter(1), reverse=True)\n",
    "\n",
    "# Print top\n",
    "for i, (person, degree) in enumerate(sorted_degree[:15]):\n",
    "    print(i+1, person, ' is related to ', degree, ' people')"
   ]
  },
  {
   "cell_type": "markdown",
   "metadata": {},
   "source": [
    "This list is already pretty interesting, containing some of the greatest which will appear again. The following figure shows a plot of the degree of a node and the number of nodes with such a degree."
   ]
  },
  {
   "cell_type": "code",
   "execution_count": 13,
   "metadata": {},
   "outputs": [
    {
     "data": {
      "text/plain": [
       "Text(0.5, 1.0, 'Degree distribution for the graph')"
      ]
     },
     "execution_count": 13,
     "metadata": {},
     "output_type": "execute_result"
    },
    {
     "data": {
      "image/png": "[encoded data removed]",
      "text/plain": [
       "<Figure size 432x288 with 1 Axes>"
      ]
     },
     "metadata": {
      "needs_background": "light"
     },
     "output_type": "display_data"
    }
   ],
   "source": [
    "degree_seq = [d[1] for d in sorted_degree]\n",
    "degreeCount = collections.Counter(degree_seq)\n",
    "degreeCount = pd.DataFrame.from_dict(degreeCount, orient='index').reset_index()\n",
    "fig = plt.figure()\n",
    "ax = plt.gca()\n",
    "ax.plot(degreeCount['index'], degreeCount[0], 'o', c='blue', markeredgecolor='none', markersize= 4)\n",
    "plt.ylabel('Frequency')\n",
    "plt.xlabel('Degree')\n",
    "plt.title('Degree distribution for the graph')"
   ]
  },
  {
   "cell_type": "markdown",
   "metadata": {},
   "source": [
    "As we can observe, the relationships follow a power law distribution since most people only have few connections and a few people have a lot of connections. Arnold Sommerfeld is the winner by an important margin, and we will see why shortly."
   ]
  },
  {
   "cell_type": "markdown",
   "metadata": {},
   "source": [
    "### 1.5 Betweenness Centrality"
   ]
  },
  {
   "cell_type": "markdown",
   "metadata": {},
   "source": [
    "Betweenness centrality is a good way of measuring how important are the nodes in the graph. It measures the centrality of a node $v$, as the proportion of shortest paths from all pairs of nodes that pass through $v$. If a node finds itself in between the path connecting other nodes then it is essential for that connection. The following list represents the top nodes based on this metric"
   ]
  },
  {
   "cell_type": "code",
   "execution_count": 14,
   "metadata": {},
   "outputs": [
    {
     "name": "stdout",
     "output_type": "stream",
     "text": [
      "1 David Hilbert  has betweeness centrality: 0.159\n",
      "2 Max Born  has betweeness centrality: 0.152\n",
      "3 Hans Reichenbach  has betweeness centrality: 0.121\n",
      "4 Arnold Sommerfeld  has betweeness centrality: 0.120\n",
      "5 Hermann Helmholtz  has betweeness centrality: 0.085\n",
      "6 E. H. Moore  has betweeness centrality: 0.073\n",
      "7 J. J. Thomson  has betweeness centrality: 0.071\n",
      "8 Solomon Lefschetz  has betweeness centrality: 0.070\n",
      "9 John von Neumann  has betweeness centrality: 0.058\n",
      "10 Ludwig Boltzmann  has betweeness centrality: 0.055\n",
      "11 Gustav Kirchhoff  has betweeness centrality: 0.052\n",
      "12 Max Planck  has betweeness centrality: 0.051\n",
      "13 Hubert Newton  has betweeness centrality: 0.051\n",
      "14 Ferdinand von Lindemann  has betweeness centrality: 0.049\n",
      "15 Arthur W. Wright  has betweeness centrality: 0.044\n"
     ]
    }
   ],
   "source": [
    "# WARNING: It's computationally expensive\n",
    "betweenness = nx.betweenness_centrality(graph)\n",
    "# Assign each to an attribute in your network\n",
    "nx.set_node_attributes(graph, betweenness, 'betweenness')\n",
    "sorted_betweenness = sorted(betweenness.items(), key=itemgetter(1), reverse=True)\n",
    "\n",
    "for i, (person, bw) in enumerate(sorted_betweenness[:15]):\n",
    "    print(i+1, person, ' has betweeness centrality: %.3f' %bw)"
   ]
  },
  {
   "cell_type": "markdown",
   "metadata": {},
   "source": [
    "The prize goes to David Hilbert. The people appearing in this list makes a lot of sense with some pre-knowledge of history. They are all from the 20th century, which follows from using an undirected graph and considering connections in both ways. Therefore, important nodes are in the center of the graph, after the \"founders\" of current mathematics (i.e. Lagrange, Euler, Gauss...) and before current people at the forefront of these fields.\n",
    "\n",
    "In the list we can find David Hilbert, a crucial connection to the greatest mathematicians of the 20th century. Similarly, we find Max Born, which satisfies a similar role for the physicists of the 20th century. In a similar sport than Max Born is Hermann Helmholtz. We can also find Solomon Lefschetz, who supervised people such as John McCarthy (computer science) and John Tukey (statistics). Most of the other people in the list are related to the other."
   ]
  },
  {
   "cell_type": "markdown",
   "metadata": {},
   "source": [
    "### 1.6 Eigenvector Centrality"
   ]
  },
  {
   "cell_type": "markdown",
   "metadata": {},
   "source": [
    "Eigenvector centrality is a different way of measuring centrality. However, in this case the importance of a node increases if it is related to another important node. This is similar to the PageRank algorithm used by Google."
   ]
  },
  {
   "cell_type": "code",
   "execution_count": 15,
   "metadata": {},
   "outputs": [
    {
     "name": "stdout",
     "output_type": "stream",
     "text": [
      "1 Arnold Sommerfeld  has eigenvector centrality: 0.578\n",
      "2 Max Born  has eigenvector centrality: 0.214\n",
      "3 Werner Heisenberg  has eigenvector centrality: 0.213\n",
      "4 Wolfgang Pauli  has eigenvector centrality: 0.162\n",
      "5 Hans Reichenbach  has eigenvector centrality: 0.158\n",
      "6 Rudolph E. Peierls  has eigenvector centrality: 0.154\n",
      "7 David Hilbert  has eigenvector centrality: 0.140\n",
      "8 Ferdinand von Lindemann  has eigenvector centrality: 0.119\n",
      "9 Gregor Wentzel  has eigenvector centrality: 0.110\n",
      "10 Linus Pauling  has eigenvector centrality: 0.109\n",
      "11 William V. Houston  has eigenvector centrality: 0.109\n",
      "12 Hans Bethe  has eigenvector centrality: 0.105\n",
      "13 J. J. Thomson  has eigenvector centrality: 0.103\n",
      "14 Walter Heitler  has eigenvector centrality: 0.102\n",
      "15 Fritz Sauter  has eigenvector centrality: 0.099\n"
     ]
    }
   ],
   "source": [
    "eigenvector_centrality = nx.eigenvector_centrality(graph)\n",
    "# Assign each to an attribute in your network\n",
    "nx.set_node_attributes(graph, eigenvector_centrality, 'eigenvector_centrality')\n",
    "sorted_eigenvector_centrality = sorted(eigenvector_centrality.items(), key=itemgetter(1), reverse=True)\n",
    "\n",
    "for i, (person, ec) in enumerate(sorted_eigenvector_centrality[:15]):\n",
    "    print(i+1, person, ' has eigenvector centrality: %.3f' %ec)"
   ]
  },
  {
   "cell_type": "markdown",
   "metadata": {},
   "source": [
    "The winner is Arnold Sommerfeld, who served as doctoral supervisor for many Nobel Prize winners in physics and chemistry. In particular, he supervised 5 future Nobel Prize winners such as Werner Heisenberg, Wolfgang Pauli, Peter Debye, Hans Bethe, Linus Pauling, Isidor I. Rabi and Max von Laue.\n",
    "\n",
    "This is no surprise since Arnold Sommerfeld is arguably once of the greatest supervisors in history. Einstein admired Sommerfeld's ability to find young talent. Sommerfeld's style as a professor invited collaboration from his students. He met with them at home or in cafes. He also shared his alpine ski hut with students, where they would meet for discussions of physics.\n",
    "\n",
    "It is fascinating that with this measure of centrality we can find the importance of Arnold Sommerfeld without knowing anything about their students, just based on the number of connections and descendants. Most of the people on the list are directly related to Arnold Sommerfeld.\n",
    "\n",
    "On the other hand, we find Max Born again, and we can find that some of his students (Max Delbrück, Maria Goeppert Mayer and Enrico Fermi) are also Nobel Prize winners.\n",
    "\n",
    "It is surprising to see J. J. Thomson so low on the list, since he was a Nobel Prize winner himself and another eight Nobel Prize winners were supervised by him: Charles Glover Barkla, Charles Thomson Rees Wilson, Ernest Rutherford, Francis William Aston, William Henry Bragg, Max Born, Niels Bohr and George Paget Thomson."
   ]
  },
  {
   "cell_type": "markdown",
   "metadata": {},
   "source": [
    "### 1.7 Bridges"
   ]
  },
  {
   "cell_type": "markdown",
   "metadata": {},
   "source": [
    "A bridge edge in a graph is an edge that disconnects a graph when removed. A node with many bridge edges represents a person that is crucial to connect one part of the graph with another branch."
   ]
  },
  {
   "cell_type": "code",
   "execution_count": 16,
   "metadata": {
    "scrolled": false
   },
   "outputs": [
    {
     "data": {
      "text/html": [
       "<div>\n",
       "<style scoped>\n",
       "    .dataframe tbody tr th:only-of-type {\n",
       "        vertical-align: middle;\n",
       "    }\n",
       "\n",
       "    .dataframe tbody tr th {\n",
       "        vertical-align: top;\n",
       "    }\n",
       "\n",
       "    .dataframe thead th {\n",
       "        text-align: right;\n",
       "    }\n",
       "</style>\n",
       "<table border=\"1\" class=\"dataframe\">\n",
       "  <thead>\n",
       "    <tr style=\"text-align: right;\">\n",
       "      <th></th>\n",
       "      <th>person</th>\n",
       "      <th>bridges</th>\n",
       "    </tr>\n",
       "  </thead>\n",
       "  <tbody>\n",
       "    <tr>\n",
       "      <th>0</th>\n",
       "      <td>Dimitris Bertsimas</td>\n",
       "      <td>32</td>\n",
       "    </tr>\n",
       "    <tr>\n",
       "      <th>1</th>\n",
       "      <td>Franz Boas</td>\n",
       "      <td>25</td>\n",
       "    </tr>\n",
       "    <tr>\n",
       "      <th>2</th>\n",
       "      <td>Robert Solow</td>\n",
       "      <td>21</td>\n",
       "    </tr>\n",
       "    <tr>\n",
       "      <th>3</th>\n",
       "      <td>Arnold Sommerfeld</td>\n",
       "      <td>19</td>\n",
       "    </tr>\n",
       "    <tr>\n",
       "      <th>4</th>\n",
       "      <td>Alonzo Church</td>\n",
       "      <td>19</td>\n",
       "    </tr>\n",
       "    <tr>\n",
       "      <th>5</th>\n",
       "      <td>David Hilbert</td>\n",
       "      <td>18</td>\n",
       "    </tr>\n",
       "    <tr>\n",
       "      <th>6</th>\n",
       "      <td>John Archibald Wheeler</td>\n",
       "      <td>16</td>\n",
       "    </tr>\n",
       "    <tr>\n",
       "      <th>7</th>\n",
       "      <td>Felix Klein</td>\n",
       "      <td>15</td>\n",
       "    </tr>\n",
       "    <tr>\n",
       "      <th>8</th>\n",
       "      <td>Salomon Bochner</td>\n",
       "      <td>14</td>\n",
       "    </tr>\n",
       "    <tr>\n",
       "      <th>9</th>\n",
       "      <td>Garrett Birkhoff</td>\n",
       "      <td>13</td>\n",
       "    </tr>\n",
       "    <tr>\n",
       "      <th>10</th>\n",
       "      <td>Richard Karp</td>\n",
       "      <td>13</td>\n",
       "    </tr>\n",
       "    <tr>\n",
       "      <th>11</th>\n",
       "      <td>John Tate</td>\n",
       "      <td>13</td>\n",
       "    </tr>\n",
       "    <tr>\n",
       "      <th>12</th>\n",
       "      <td>Elias Stein</td>\n",
       "      <td>12</td>\n",
       "    </tr>\n",
       "    <tr>\n",
       "      <th>13</th>\n",
       "      <td>Marvin Minsky</td>\n",
       "      <td>12</td>\n",
       "    </tr>\n",
       "    <tr>\n",
       "      <th>14</th>\n",
       "      <td>Noam Chomsky</td>\n",
       "      <td>11</td>\n",
       "    </tr>\n",
       "  </tbody>\n",
       "</table>\n",
       "</div>"
      ],
      "text/plain": [
       "                    person  bridges\n",
       "0       Dimitris Bertsimas       32\n",
       "1               Franz Boas       25\n",
       "2             Robert Solow       21\n",
       "3        Arnold Sommerfeld       19\n",
       "4            Alonzo Church       19\n",
       "5            David Hilbert       18\n",
       "6   John Archibald Wheeler       16\n",
       "7              Felix Klein       15\n",
       "8          Salomon Bochner       14\n",
       "9         Garrett Birkhoff       13\n",
       "10            Richard Karp       13\n",
       "11               John Tate       13\n",
       "12             Elias Stein       12\n",
       "13           Marvin Minsky       12\n",
       "14            Noam Chomsky       11"
      ]
     },
     "execution_count": 16,
     "metadata": {},
     "output_type": "execute_result"
    }
   ],
   "source": [
    "pd.DataFrame(list(nx.bridges(graph))).rename(columns={0: 'src', 1: 'dst'}).groupby('src').count().sort_values(by='dst', ascending=False).reset_index().rename(columns={'src': 'person', 'dst': 'bridges'}).head(15)"
   ]
  },
  {
   "cell_type": "markdown",
   "metadata": {},
   "source": [
    "There are some familiar people in the list which have appeared before: Arnold Sommerfeld, David Hilbert, Felix Klein... However, there are new faces which are very interesting.\n",
    "\n",
    "Dimitris Bertsimas could be considered an outlier, because his Wikipedia page lists all of his doctoral students, which is not usually the case for all the others. In general, the only relationships that appear are the ones where both sides have a Wikipedia page. However, all of the students in Bertsimas' list do not have a Wikipedia page.\n",
    "\n",
    "Franz Boas is very interesting. He was an anthropologist who supervised many students, becoming the backbone for that community in our graph. At first, it surprised that an anthropologist is among the people on this dataset. However, we trace Franz Boas back to Abraham Gotthelf Kästner, and from him down to Carl Gustav Jacob Jacobi."
   ]
  },
  {
   "cell_type": "code",
   "execution_count": 17,
   "metadata": {},
   "outputs": [
    {
     "name": "stdout",
     "output_type": "stream",
     "text": [
      "Shortest path: ['Franz Boas', 'Rudolf Virchow', 'Johannes Peter Müller', 'Karl Rudolphi', 'Christian Ehrenfried Weigel', 'Johann Christian Polycarp Erxleben', 'Abraham Gotthelf Kästner']\n"
     ]
    }
   ],
   "source": [
    "path = nx.shortest_path(graph, source=\"Franz Boas\", target=\"Abraham Gotthelf Kästner\")\n",
    "print(\"Shortest path:\", path)"
   ]
  },
  {
   "cell_type": "code",
   "execution_count": 18,
   "metadata": {},
   "outputs": [
    {
     "name": "stdout",
     "output_type": "stream",
     "text": [
      "Shortest path: ['Abraham Gotthelf Kästner', 'Johann Tobias Mayer', 'Enno Dirksen', 'Carl Gustav Jacob Jacobi']\n"
     ]
    }
   ],
   "source": [
    "path = nx.shortest_path(graph, source=\"Abraham Gotthelf Kästner\", target=\"Carl Gustav Jacob Jacobi\")\n",
    "print(\"Shortest path:\", path)"
   ]
  },
  {
   "cell_type": "markdown",
   "metadata": {},
   "source": [
    "Similarly to Franz Boas, Robert Solow is connected to a community of economists and his ancestors are mathematicians. Others like Alonzo Church, Richard Karp or Marvin Minsky are crucial connections between the fields of mathematics and computer science. At the end of the list we find Noam Chomsky, a connection between mathematics and linguists."
   ]
  },
  {
   "cell_type": "markdown",
   "metadata": {},
   "source": [
    "## 2. Directed Graph\n",
    "\n",
    "A graph is directed if all the edges are unidirectional. In this case, supervision is more important than being a student."
   ]
  },
  {
   "cell_type": "code",
   "execution_count": 19,
   "metadata": {},
   "outputs": [
    {
     "name": "stdout",
     "output_type": "stream",
     "text": [
      "Name: \n",
      "Type: DiGraph\n",
      "Number of nodes: 7070\n",
      "Number of edges: 8071\n",
      "Average in degree:   1.1416\n",
      "Average out degree:   1.1416\n"
     ]
    }
   ],
   "source": [
    "# Create digraph using a Pandas dataframe\n",
    "digraph = nx.from_pandas_edgelist(supervision_df, 'supervisor', 'student', edge_attr=None, create_using = nx.DiGraph())\n",
    "print(nx.info(digraph))"
   ]
  },
  {
   "cell_type": "markdown",
   "metadata": {},
   "source": [
    "### 2.1 Betweenness Centrality"
   ]
  },
  {
   "cell_type": "markdown",
   "metadata": {},
   "source": [
    "Betweenness centrality is a good way of measuring how important are the nodes in the graph. It measures the centrality of a node $v$, as the proportion of shortest paths from all pairs of nodes that pass through $v$. If a node finds itself in between the path connecting other nodes then it is essential for that connection. The following list represents the top nodes based on this metric.\n",
    "\n",
    "The main difference compared to the results in Section 1.6 is that in this case paths can only be calculated in the direction of supervisor to student. Therefore, it is expected to find that the nodes at the top of the tree will be found more often in shorted paths down the tree."
   ]
  },
  {
   "cell_type": "code",
   "execution_count": 20,
   "metadata": {},
   "outputs": [
    {
     "name": "stdout",
     "output_type": "stream",
     "text": [
      "1 Joseph-Louis Lagrange  has betweeness centrality: 0.002\n",
      "2 Leonhard Euler  has betweeness centrality: 0.002\n",
      "3 Johann Bernoulli  has betweeness centrality: 0.002\n",
      "4 Siméon Poisson  has betweeness centrality: 0.001\n",
      "5 Felix Klein  has betweeness centrality: 0.001\n",
      "6 Peter Dirichlet  has betweeness centrality: 0.001\n",
      "7 Nikolaus Eglinger  has betweeness centrality: 0.001\n",
      "8 Emmanuel Stupanus  has betweeness centrality: 0.001\n",
      "9 Rudolf Lipschitz  has betweeness centrality: 0.001\n",
      "10 Ferdinand von Lindemann  has betweeness centrality: 0.001\n",
      "11 Carl Gauss  has betweeness centrality: 0.001\n",
      "12 Johann Pfaff  has betweeness centrality: 0.001\n",
      "13 Petrus Ryff  has betweeness centrality: 0.001\n",
      "14 Michel Chasles  has betweeness centrality: 0.001\n",
      "15 Theodor Zwinger  has betweeness centrality: 0.001\n"
     ]
    }
   ],
   "source": [
    "betweenness = nx.betweenness_centrality(digraph)\n",
    "# Assign each to an attribute in your network\n",
    "nx.set_node_attributes(digraph, betweenness, 'betweenness')\n",
    "sorted_betweenness = sorted(betweenness.items(), key=itemgetter(1), reverse=True)\n",
    "\n",
    "for i, (person, bw) in enumerate(sorted_betweenness[:15]):\n",
    "    print(i+1, person, ' has betweeness centrality: %.3f' %bw)"
   ]
  },
  {
   "cell_type": "markdown",
   "metadata": {},
   "source": [
    "The winner is Lagrange, and we can find many of the forefathers of mathematics. Since we use a directed graph, we value more the supervisors, and therefore we end up with the greatest mathematicians.\n",
    "\n",
    "Lagrange supervised people such as Fourier and Poisson. Euler supervised Lagrange, and was supervised by Johann Bernoulli. Felix Klein was supervised by Lipschitz, and supervised many great mathematicians. Among others, Klein supervised Ferdinand von Lindemann who supervised David Hilbert and Arnold Sommerfeld, coming full circle.\n",
    "\n",
    "See Section 2.3 to see an interesting path between Lagrange and John von Neumann."
   ]
  },
  {
   "cell_type": "markdown",
   "metadata": {},
   "source": [
    "### 2.2 Eccentricity"
   ]
  },
  {
   "cell_type": "markdown",
   "metadata": {},
   "source": [
    "The eccentricity of a node $v$ is the maximum distance from node $v$ to any other node in the graph. However, in a directed graph it's not possible to calculate it when the graph is not strongly connected (i.e. all nodes are reachable between each other). Nevertheless, I'm only interested in the nodes with the maximum eccentricity, so I define a weak eccentricity (because our directed graph is weakly connected) where an unreachable node is at a distance of zero. This is a great measure to find the people at the top of the tree."
   ]
  },
  {
   "cell_type": "code",
   "execution_count": 21,
   "metadata": {},
   "outputs": [],
   "source": [
    "def weak_eccentricity(G):\n",
    "    # Exaclty like eccentricity, but when a node is unreachable\n",
    "    # the distance is 0. This is only worth to use the max\n",
    "    # eccentricity which otherwise is not possible on a\n",
    "    # weakly connected directed graph\n",
    "    order=G.order()\n",
    "\n",
    "    e={}\n",
    "    for n in G.nbunch_iter(None):\n",
    "        length=nx.single_source_shortest_path_length(G,n)\n",
    "        L = len(length)\n",
    "        if L != order:\n",
    "            L = 0\n",
    "            \n",
    "        e[n]=max(length.values())\n",
    "\n",
    "    return e"
   ]
  },
  {
   "cell_type": "markdown",
   "metadata": {},
   "source": [
    "Now we can calculate the weak eccentricity for every node in the graph and list the top nodes in decreasing order."
   ]
  },
  {
   "cell_type": "code",
   "execution_count": 22,
   "metadata": {},
   "outputs": [
    {
     "name": "stdout",
     "output_type": "stream",
     "text": [
      "1 Marco Musuro  has eccentricity: 26\n",
      "2 Nicoletto Vernia  has eccentricity: 26\n",
      "3 Ognibene da Lonigo  has eccentricity: 26\n",
      "4 Pietro Roccabonella  has eccentricity: 26\n",
      "5 Giovanni Battista della Monte  has eccentricity: 25\n",
      "6 Giovanni Manardo  has eccentricity: 25\n",
      "7 Johannes Baptista Montanus  has eccentricity: 25\n",
      "8 Niccolò Leoniceno  has eccentricity: 25\n",
      "9 Pietro Pomponazzi  has eccentricity: 25\n",
      "10 Antonio Musa Brassavola  has eccentricity: 24\n",
      "11 Bassiano Landi  has eccentricity: 24\n",
      "12 Petrus Ramus  has eccentricity: 24\n",
      "13 Vittore Trincavelli  has eccentricity: 24\n",
      "14 Thomas Platter  has eccentricity: 24\n",
      "15 Gabriele Falloppio  has eccentricity: 23\n"
     ]
    }
   ],
   "source": [
    "eccentricity = weak_eccentricity(digraph)\n",
    "# Assign each to an attribute in your network\n",
    "nx.set_node_attributes(digraph, eccentricity, 'eccentricity')\n",
    "sorted_eccentricity = sorted(eccentricity.items(), key=itemgetter(1), reverse=True)\n",
    "\n",
    "for i, (person, ecc) in enumerate(sorted_eccentricity[:15]):\n",
    "    print(i+1, person, ' has eccentricity: %d' %ecc)"
   ]
  },
  {
   "cell_type": "markdown",
   "metadata": {},
   "source": [
    "Personally, I think the people on this list are not that famous, but they are the top of the tree and have the greatest among their descendants."
   ]
  },
  {
   "cell_type": "markdown",
   "metadata": {},
   "source": [
    "For instance, we can calculate the eccentricity of one of the greatest as follows"
   ]
  },
  {
   "cell_type": "code",
   "execution_count": 23,
   "metadata": {},
   "outputs": [
    {
     "name": "stdout",
     "output_type": "stream",
     "text": [
      "The eccentricity of Joseph-Louis Lagrange is 17\n"
     ]
    }
   ],
   "source": [
    "node = 'Joseph-Louis Lagrange'\n",
    "ecc = dict(sorted_eccentricity)[node]\n",
    "print('The eccentricity of {} is {}'.format(node, ecc))"
   ]
  },
  {
   "cell_type": "markdown",
   "metadata": {},
   "source": [
    "### 2.3 Paths"
   ]
  },
  {
   "cell_type": "markdown",
   "metadata": {},
   "source": [
    "Let's find some of the shortest paths from one person to another (if exists)."
   ]
  },
  {
   "cell_type": "code",
   "execution_count": 24,
   "metadata": {},
   "outputs": [
    {
     "name": "stdout",
     "output_type": "stream",
     "text": [
      "Shortest path: ['Joseph-Louis Lagrange', 'Joseph Fourier', 'Peter Dirichlet', 'Rudolf Lipschitz', 'Felix Klein', 'Ferdinand von Lindemann', 'David Hilbert', 'John von Neumann']\n"
     ]
    }
   ],
   "source": [
    "path = nx.shortest_path(digraph, source=\"Joseph-Louis Lagrange\", target=\"John von Neumann\")\n",
    "print(\"Shortest path:\", path)"
   ]
  },
  {
   "cell_type": "markdown",
   "metadata": {},
   "source": [
    "What a remarkable path from Lagrange to Neumann."
   ]
  },
  {
   "cell_type": "markdown",
   "metadata": {},
   "source": [
    "### 2.4 Draw Tree"
   ]
  },
  {
   "cell_type": "markdown",
   "metadata": {},
   "source": [
    "It is interesting to draw the tree of influences of a person."
   ]
  },
  {
   "cell_type": "code",
   "execution_count": 25,
   "metadata": {},
   "outputs": [],
   "source": [
    "# This function returns the subgraph starting from a root node, obtaining the supervisors and students recursively\n",
    "def subgraph(G, root_node, levels=1):\n",
    "    nodes = [[root_node]]\n",
    "    subgraph_nodes = [root_node]\n",
    "    # Empty lists are False\n",
    "    while levels > 0 and nodes:\n",
    "        levels -= 1\n",
    "        level_nodes = nodes.pop(0)\n",
    "        new_level_nodes = []\n",
    "        for n in level_nodes:\n",
    "            students = list(digraph.neighbors(n))\n",
    "            advisors = list(digraph.predecessors(n))\n",
    "            new_level_nodes = new_level_nodes + students + advisors\n",
    "            subgraph_nodes = subgraph_nodes + students + advisors\n",
    "        nodes += [new_level_nodes]\n",
    "\n",
    "    return G.subgraph(subgraph_nodes)"
   ]
  },
  {
   "cell_type": "code",
   "execution_count": 26,
   "metadata": {},
   "outputs": [],
   "source": [
    "sub_digraph = subgraph(digraph, 'David Hilbert', levels=2)"
   ]
  },
  {
   "cell_type": "code",
   "execution_count": 27,
   "metadata": {},
   "outputs": [],
   "source": [
    "write_dot(sub_digraph, \"hilbert.dot\")"
   ]
  },
  {
   "cell_type": "code",
   "execution_count": 28,
   "metadata": {},
   "outputs": [],
   "source": [
    "!unflatten -l 12 hilbert.dot | dot -Tsvg -o hilbert.svg\n",
    "!rm hilbert.dot"
   ]
  },
  {
   "cell_type": "markdown",
   "metadata": {},
   "source": [
    "### 2.5 Draw Tree Connecting Pool of People"
   ]
  },
  {
   "cell_type": "markdown",
   "metadata": {},
   "source": [
    "Now, we focus on drawing the tree given a pool of people, with all the necessary nodes that connect them (if feasible)."
   ]
  },
  {
   "cell_type": "code",
   "execution_count": 29,
   "metadata": {},
   "outputs": [],
   "source": [
    "def pool_subgraph(G, DG, root_nodes):\n",
    "    subgraph_nodes = []\n",
    "    for n1 in root_nodes:\n",
    "        for n2 in root_nodes:\n",
    "            if n1 != n2:\n",
    "                try:\n",
    "                    path = nx.shortest_path(G, source=n1, target=n2)\n",
    "                    subgraph_nodes += path\n",
    "                except nx.NetworkXNoPath:\n",
    "                    None\n",
    "\n",
    "    return DG.subgraph(subgraph_nodes)"
   ]
  },
  {
   "cell_type": "code",
   "execution_count": 30,
   "metadata": {},
   "outputs": [],
   "source": [
    "pool = ['Leonhard Euler', 'David Hilbert', 'Siméon Poisson', 'Pierre-Simon Laplace', 'Karl Weierstrass']\n",
    "pool_digraph = pool_subgraph(graph, digraph, pool)"
   ]
  },
  {
   "cell_type": "code",
   "execution_count": 31,
   "metadata": {},
   "outputs": [],
   "source": [
    "write_dot(pool_digraph, \"pool.dot\")"
   ]
  },
  {
   "cell_type": "code",
   "execution_count": 32,
   "metadata": {},
   "outputs": [],
   "source": [
    "!unflatten -l 12 pool.dot | dot -Tsvg -o pool.svg\n",
    "!rm pool.dot"
   ]
  },
  {
   "cell_type": "markdown",
   "metadata": {},
   "source": [
    "## Future Work\n",
    "\n",
    "- For each person set attributes such as field, birthday, gender, prizes etc\n",
    "- Find if there are communities that actually map to different fields. I imagine that at the beginning everyone is pretty much connected and a mathematician, but then some fields are branches of some particular people.\n",
    "- Study homophily, how likely two people that have the same attribute are linked.\n",
    "- Print a tree .dot with the greatest people in the tree and their connections\n",
    "- Replicate the study with the data from the Mathematics Genealogy Project"
   ]
  }
 ],
 "metadata": {
  "kernelspec": {
   "display_name": "Python 3",
   "language": "python",
   "name": "python3"
  },
  "language_info": {
   "codemirror_mode": {
    "name": "ipython",
    "version": 3
   },
   "file_extension": ".py",
   "mimetype": "text/x-python",
   "name": "python",
   "nbconvert_exporter": "python",
   "pygments_lexer": "ipython3",
   "version": "3.8.1"
  }
 },
 "nbformat": 4,
 "nbformat_minor": 4
}
