{
 "cells": [
  {
   "cell_type": "markdown",
   "metadata": {},
   "source": [
    "# History of the Relations Between Supervisors and Students"
   ]
  },
  {
   "cell_type": "code",
   "execution_count": 1,
   "metadata": {},
   "outputs": [],
   "source": [
    "import pandas as pd"
   ]
  },
  {
   "cell_type": "code",
   "execution_count": 2,
   "metadata": {},
   "outputs": [
    {
     "data": {
      "text/html": [
       "<div>\n",
       "<style scoped>\n",
       "    .dataframe tbody tr th:only-of-type {\n",
       "        vertical-align: middle;\n",
       "    }\n",
       "\n",
       "    .dataframe tbody tr th {\n",
       "        vertical-align: top;\n",
       "    }\n",
       "\n",
       "    .dataframe thead th {\n",
       "        text-align: right;\n",
       "    }\n",
       "</style>\n",
       "<table border=\"1\" class=\"dataframe\">\n",
       "  <thead>\n",
       "    <tr style=\"text-align: right;\">\n",
       "      <th></th>\n",
       "      <th>supervisor</th>\n",
       "      <th>student</th>\n",
       "    </tr>\n",
       "  </thead>\n",
       "  <tbody>\n",
       "    <tr>\n",
       "      <th>0</th>\n",
       "      <td>A. Carl Helmholz</td>\n",
       "      <td>Kent Terwilliger</td>\n",
       "    </tr>\n",
       "    <tr>\n",
       "      <th>1</th>\n",
       "      <td>A. Carl Helmholz</td>\n",
       "      <td>Lawrence W. Jones</td>\n",
       "    </tr>\n",
       "    <tr>\n",
       "      <th>2</th>\n",
       "      <td>A. Carl Helmholz</td>\n",
       "      <td>Barry Barish</td>\n",
       "    </tr>\n",
       "    <tr>\n",
       "      <th>3</th>\n",
       "      <td>A. David Buckingham</td>\n",
       "      <td>Brian Orr</td>\n",
       "    </tr>\n",
       "    <tr>\n",
       "      <th>4</th>\n",
       "      <td>A. David Buckingham</td>\n",
       "      <td>Laurence D. Barron</td>\n",
       "    </tr>\n",
       "    <tr>\n",
       "      <th>5</th>\n",
       "      <td>A. P. Balachandran</td>\n",
       "      <td>Pierre Ramond</td>\n",
       "    </tr>\n",
       "    <tr>\n",
       "      <th>6</th>\n",
       "      <td>Aaron Courville</td>\n",
       "      <td>Ian Goodfellow</td>\n",
       "    </tr>\n",
       "    <tr>\n",
       "      <th>7</th>\n",
       "      <td>Abba Lerner</td>\n",
       "      <td>Robert Fogel</td>\n",
       "    </tr>\n",
       "    <tr>\n",
       "      <th>8</th>\n",
       "      <td>Abdus Salam</td>\n",
       "      <td>Yuval Ne'eman</td>\n",
       "    </tr>\n",
       "    <tr>\n",
       "      <th>9</th>\n",
       "      <td>Abdus Salam</td>\n",
       "      <td>John Moffat (physicist)</td>\n",
       "    </tr>\n",
       "  </tbody>\n",
       "</table>\n",
       "</div>"
      ],
      "text/plain": [
       "            supervisor                  student\n",
       "0     A. Carl Helmholz         Kent Terwilliger\n",
       "1     A. Carl Helmholz        Lawrence W. Jones\n",
       "2     A. Carl Helmholz             Barry Barish\n",
       "3  A. David Buckingham                Brian Orr\n",
       "4  A. David Buckingham       Laurence D. Barron\n",
       "5   A. P. Balachandran            Pierre Ramond\n",
       "6      Aaron Courville           Ian Goodfellow\n",
       "7          Abba Lerner             Robert Fogel\n",
       "8          Abdus Salam            Yuval Ne'eman\n",
       "9          Abdus Salam  John Moffat (physicist)"
      ]
     },
     "execution_count": 2,
     "metadata": {},
     "output_type": "execute_result"
    }
   ],
   "source": [
    "supervision_df = pd.read_csv('relations.csv')\n",
    "# supervision_df.drop_duplicates(inplace=True)\n",
    "supervision_df.reset_index(drop=True, inplace=True)\n",
    "supervision_df.head(10)"
   ]
  },
  {
   "cell_type": "markdown",
   "metadata": {},
   "source": [
    "Number of unique people in the dataset"
   ]
  },
  {
   "cell_type": "code",
   "execution_count": 3,
   "metadata": {},
   "outputs": [
    {
     "data": {
      "text/plain": [
       "7070"
      ]
     },
     "execution_count": 3,
     "metadata": {},
     "output_type": "execute_result"
    }
   ],
   "source": [
    "len(set(supervision_df.student.tolist() + supervision_df.supervisor.tolist()))"
   ]
  },
  {
   "cell_type": "markdown",
   "metadata": {},
   "source": [
    "Number of unique students in the dataset"
   ]
  },
  {
   "cell_type": "code",
   "execution_count": 4,
   "metadata": {},
   "outputs": [
    {
     "data": {
      "text/plain": [
       "6517"
      ]
     },
     "execution_count": 4,
     "metadata": {},
     "output_type": "execute_result"
    }
   ],
   "source": [
    "len(supervision_df.student.unique())"
   ]
  },
  {
   "cell_type": "markdown",
   "metadata": {},
   "source": [
    "Number of unique supervisors in the dataset"
   ]
  },
  {
   "cell_type": "code",
   "execution_count": 5,
   "metadata": {},
   "outputs": [
    {
     "data": {
      "text/plain": [
       "2862"
      ]
     },
     "execution_count": 5,
     "metadata": {},
     "output_type": "execute_result"
    }
   ],
   "source": [
    "len(supervision_df.supervisor.unique())"
   ]
  },
  {
   "cell_type": "markdown",
   "metadata": {},
   "source": [
    "## TODO\n",
    "\n",
    "- Set attributes for each (i.e. person) such as field, birthday, gender etc\n",
    "- Interesting to see if the different components are associated with different fields, countries, generations...\n",
    "- Homophily, how likely two people that have the same attribute are linked?\n",
    "- Study how small we can make the seed and still manage to connect most people, as well as discovering who are the most important nodes\n",
    "- ~~Remove duplicated with similar names searching for names that match in high percentage (e.g. Robert Solow and Robert M. Solow)~~"
   ]
  },
  {
   "cell_type": "markdown",
   "metadata": {},
   "source": [
    "## Graph"
   ]
  },
  {
   "cell_type": "code",
   "execution_count": 6,
   "metadata": {},
   "outputs": [],
   "source": [
    "import networkx as nx\n",
    "import collections\n",
    "import matplotlib.pyplot as plt\n",
    "from operator import itemgetter"
   ]
  },
  {
   "cell_type": "code",
   "execution_count": 7,
   "metadata": {},
   "outputs": [
    {
     "name": "stdout",
     "output_type": "stream",
     "text": [
      "Name: \n",
      "Type: Graph\n",
      "Number of nodes: 7070\n",
      "Number of edges: 8071\n",
      "Average degree:   2.2832\n"
     ]
    }
   ],
   "source": [
    "graph = nx.from_pandas_edgelist(supervision_df, 'supervisor', 'student', edge_attr=None, create_using = nx.Graph())\n",
    "print(nx.info(graph))"
   ]
  },
  {
   "cell_type": "markdown",
   "metadata": {},
   "source": [
    "The density of the graph is close to zero, which means that the number of edges is small compared to the number of nodes. A value of one represents a complete graph, and a value of zero a graph with no edges."
   ]
  },
  {
   "cell_type": "code",
   "execution_count": 11,
   "metadata": {},
   "outputs": [
    {
     "name": "stdout",
     "output_type": "stream",
     "text": [
      "Network density: 0.0003\n"
     ]
    }
   ],
   "source": [
    "print(\"Network density: %.4f\" %nx.density(graph))"
   ]
  },
  {
   "cell_type": "code",
   "execution_count": 12,
   "metadata": {},
   "outputs": [
    {
     "name": "stdout",
     "output_type": "stream",
     "text": [
      "The graph contains 84 connected components\n"
     ]
    }
   ],
   "source": [
    "comp = list(nx.connected_components(graph))\n",
    "print('The graph contains', len(comp), 'connected components')"
   ]
  },
  {
   "cell_type": "code",
   "execution_count": 23,
   "metadata": {},
   "outputs": [
    {
     "name": "stdout",
     "output_type": "stream",
     "text": [
      "The largest component has  6774 nodes accounting for 95.81 % of the nodes\n"
     ]
    }
   ],
   "source": [
    "largest_comp = max(comp, key=len)\n",
    "percentage_lcc = len(largest_comp)/ graph.number_of_nodes() * 100\n",
    "print('The largest component has ', len(largest_comp), 'nodes', 'accounting for %.2f'% percentage_lcc, '% of the nodes')"
   ]
  },
  {
   "cell_type": "code",
   "execution_count": 24,
   "metadata": {},
   "outputs": [
    {
     "name": "stdout",
     "output_type": "stream",
     "text": [
      "Shortest path between Einstein and Feynman: ['Albert Einstein', 'Hans Reichenbach', 'Arnold Sommerfeld', 'Karl Herzfeld', 'John Archibald Wheeler', 'Richard Feynman']\n"
     ]
    }
   ],
   "source": [
    "path = nx.shortest_path(graph, source=\"Albert Einstein\", target=\"Richard Feynman\")\n",
    "print(\"Shortest path between Einstein and Feynman:\", path)"
   ]
  },
  {
   "cell_type": "code",
   "execution_count": 25,
   "metadata": {},
   "outputs": [
    {
     "name": "stdout",
     "output_type": "stream",
     "text": [
      "The diameter of the largest component is 37\n"
     ]
    }
   ],
   "source": [
    "# WARNING: It is computationally expensive\n",
    "# take the largest component and analyse its diameter = longest shortest path \n",
    "lcc_graph = graph.subgraph(largest_comp)\n",
    "diameter = nx.diameter(lcc_graph)\n",
    "print(\"The diameter of the largest component is\", diameter)"
   ]
  },
  {
   "cell_type": "code",
   "execution_count": 26,
   "metadata": {
    "scrolled": true
   },
   "outputs": [
    {
     "name": "stdout",
     "output_type": "stream",
     "text": [
      "0.016\n"
     ]
    }
   ],
   "source": [
    "print('%.3f'%nx.transitivity(graph))"
   ]
  },
  {
   "cell_type": "code",
   "execution_count": 29,
   "metadata": {
    "scrolled": true
   },
   "outputs": [
    {
     "name": "stdout",
     "output_type": "stream",
     "text": [
      "Arnold Sommerfeld  knows  44  people\n",
      "David Hilbert  knows  37  people\n",
      "Dimitris Bertsimas  knows  34  people\n",
      "Robert Solow  knows  30  people\n",
      "Max Born  knows  29  people\n",
      "Felix Klein  knows  28  people\n",
      "Alonzo Church  knows  27  people\n",
      "Franz Boas  knows  27  people\n",
      "Abdus Salam  knows  25  people\n",
      "J. J. Thomson  knows  24  people\n",
      "John Archibald Wheeler  knows  23  people\n",
      "Justus Liebig  knows  23  people\n",
      "Walther Nernst  knows  22  people\n",
      "Robert Bunsen  knows  22  people\n",
      "Karl Weierstrass  knows  21  people\n"
     ]
    }
   ],
   "source": [
    "degrees = dict(graph.degree(graph.nodes()))\n",
    "sorted_degree = sorted(degrees.items(), key=itemgetter(1), reverse=True)\n",
    "\n",
    "# And the top 10 most popular\n",
    "for person, degree in sorted_degree[:15]:\n",
    "    print(person, ' knows ', degree, ' people')"
   ]
  },
  {
   "cell_type": "markdown",
   "metadata": {},
   "source": [
    "Note: this is an undirected graph. If you were to have a directed one, use separate metrics for indegree and outdegree."
   ]
  },
  {
   "cell_type": "code",
   "execution_count": 30,
   "metadata": {},
   "outputs": [
    {
     "data": {
      "text/plain": [
       "Text(0.5, 1.0, 'Degree distribution for the network')"
      ]
     },
     "execution_count": 30,
     "metadata": {},
     "output_type": "execute_result"
    },
    {
     "data": {
      "image/png": "[encoded data removed]",
      "text/plain": [
       "<Figure size 432x288 with 1 Axes>"
      ]
     },
     "metadata": {
      "needs_background": "light"
     },
     "output_type": "display_data"
    }
   ],
   "source": [
    "degree_seq = [d[1] for d in sorted_degree]\n",
    "degreeCount = collections.Counter(degree_seq)\n",
    "degreeCount = pd.DataFrame.from_dict(degreeCount, orient='index').reset_index()\n",
    "fig = plt.figure()\n",
    "ax = plt.gca()\n",
    "ax.plot(degreeCount['index'], degreeCount[0], 'o', c='blue', markeredgecolor='none', markersize= 4)\n",
    "plt.ylabel('Frequency')\n",
    "plt.xlabel('Degree')\n",
    "plt.title('Degree distribution for the network')"
   ]
  },
  {
   "cell_type": "code",
   "execution_count": 31,
   "metadata": {},
   "outputs": [
    {
     "name": "stdout",
     "output_type": "stream",
     "text": [
      "David Hilbert  has betweeness: 0.159\n",
      "Max Born  has betweeness: 0.152\n",
      "Hans Reichenbach  has betweeness: 0.121\n",
      "Arnold Sommerfeld  has betweeness: 0.120\n",
      "Hermann Helmholtz  has betweeness: 0.085\n",
      "E. H. Moore  has betweeness: 0.073\n",
      "J. J. Thomson  has betweeness: 0.071\n",
      "Solomon Lefschetz  has betweeness: 0.070\n",
      "John von Neumann  has betweeness: 0.058\n",
      "Ludwig Boltzmann  has betweeness: 0.055\n",
      "Gustav Kirchhoff  has betweeness: 0.052\n",
      "Max Planck  has betweeness: 0.051\n",
      "Hubert Newton  has betweeness: 0.051\n",
      "Ferdinand von Lindemann  has betweeness: 0.049\n",
      "Arthur W. Wright  has betweeness: 0.044\n"
     ]
    }
   ],
   "source": [
    "# WARNING: It's computationally expensive\n",
    "betweenness = nx.betweenness_centrality(graph)\n",
    "# Assign each to an attribute in your network\n",
    "nx.set_node_attributes(graph, betweenness, 'betweenness')\n",
    "sorted_betweenness = sorted(betweenness.items(), key=itemgetter(1), reverse=True)\n",
    "\n",
    "for person, bw in sorted_betweenness[:15]:\n",
    "    print(person, ' has betweeness: %.3f' %bw)"
   ]
  },
  {
   "cell_type": "code",
   "execution_count": 35,
   "metadata": {},
   "outputs": [
    {
     "name": "stdout",
     "output_type": "stream",
     "text": [
      "Arnold Sommerfeld  has eigenvector centrality: 0.578\n",
      "Max Born  has eigenvector centrality: 0.214\n",
      "Werner Heisenberg  has eigenvector centrality: 0.213\n",
      "Wolfgang Pauli  has eigenvector centrality: 0.162\n",
      "Hans Reichenbach  has eigenvector centrality: 0.158\n",
      "Rudolph E. Peierls  has eigenvector centrality: 0.154\n",
      "David Hilbert  has eigenvector centrality: 0.140\n",
      "Ferdinand von Lindemann  has eigenvector centrality: 0.119\n",
      "Gregor Wentzel  has eigenvector centrality: 0.110\n",
      "Linus Pauling  has eigenvector centrality: 0.109\n",
      "William V. Houston  has eigenvector centrality: 0.109\n",
      "Hans Bethe  has eigenvector centrality: 0.105\n",
      "J. J. Thomson  has eigenvector centrality: 0.103\n",
      "Walter Heitler  has eigenvector centrality: 0.102\n",
      "Fritz Sauter  has eigenvector centrality: 0.099\n"
     ]
    }
   ],
   "source": [
    "# WARNING: It's computationally expensive\n",
    "eigenvector_centrality = nx.eigenvector_centrality(graph)\n",
    "# Assign each to an attribute in your network\n",
    "nx.set_node_attributes(graph, eigenvector_centrality, 'eigenvector_centrality')\n",
    "sorted_eigenvector_centrality = sorted(eigenvector_centrality.items(), key=itemgetter(1), reverse=True)\n",
    "\n",
    "for person, ec in sorted_eigenvector_centrality[:15]:\n",
    "    print(person, ' has eigenvector centrality: %.3f' %ec)"
   ]
  },
  {
   "cell_type": "markdown",
   "metadata": {},
   "source": [
    "People with the most number of bridge edges"
   ]
  },
  {
   "cell_type": "code",
   "execution_count": 32,
   "metadata": {
    "scrolled": false
   },
   "outputs": [
    {
     "data": {
      "text/html": [
       "<div>\n",
       "<style scoped>\n",
       "    .dataframe tbody tr th:only-of-type {\n",
       "        vertical-align: middle;\n",
       "    }\n",
       "\n",
       "    .dataframe tbody tr th {\n",
       "        vertical-align: top;\n",
       "    }\n",
       "\n",
       "    .dataframe thead th {\n",
       "        text-align: right;\n",
       "    }\n",
       "</style>\n",
       "<table border=\"1\" class=\"dataframe\">\n",
       "  <thead>\n",
       "    <tr style=\"text-align: right;\">\n",
       "      <th></th>\n",
       "      <th>dst</th>\n",
       "    </tr>\n",
       "    <tr>\n",
       "      <th>src</th>\n",
       "      <th></th>\n",
       "    </tr>\n",
       "  </thead>\n",
       "  <tbody>\n",
       "    <tr>\n",
       "      <th>Dimitris Bertsimas</th>\n",
       "      <td>32</td>\n",
       "    </tr>\n",
       "    <tr>\n",
       "      <th>Franz Boas</th>\n",
       "      <td>25</td>\n",
       "    </tr>\n",
       "    <tr>\n",
       "      <th>Robert Solow</th>\n",
       "      <td>21</td>\n",
       "    </tr>\n",
       "    <tr>\n",
       "      <th>Arnold Sommerfeld</th>\n",
       "      <td>19</td>\n",
       "    </tr>\n",
       "    <tr>\n",
       "      <th>Alonzo Church</th>\n",
       "      <td>19</td>\n",
       "    </tr>\n",
       "    <tr>\n",
       "      <th>David Hilbert</th>\n",
       "      <td>18</td>\n",
       "    </tr>\n",
       "    <tr>\n",
       "      <th>John Archibald Wheeler</th>\n",
       "      <td>16</td>\n",
       "    </tr>\n",
       "    <tr>\n",
       "      <th>Felix Klein</th>\n",
       "      <td>15</td>\n",
       "    </tr>\n",
       "    <tr>\n",
       "      <th>Salomon Bochner</th>\n",
       "      <td>14</td>\n",
       "    </tr>\n",
       "    <tr>\n",
       "      <th>Garrett Birkhoff</th>\n",
       "      <td>13</td>\n",
       "    </tr>\n",
       "    <tr>\n",
       "      <th>Richard Karp</th>\n",
       "      <td>13</td>\n",
       "    </tr>\n",
       "    <tr>\n",
       "      <th>John Tate</th>\n",
       "      <td>13</td>\n",
       "    </tr>\n",
       "    <tr>\n",
       "      <th>Elias Stein</th>\n",
       "      <td>12</td>\n",
       "    </tr>\n",
       "    <tr>\n",
       "      <th>Marvin Minsky</th>\n",
       "      <td>12</td>\n",
       "    </tr>\n",
       "    <tr>\n",
       "      <th>Noam Chomsky</th>\n",
       "      <td>11</td>\n",
       "    </tr>\n",
       "    <tr>\n",
       "      <th>Irving Segal</th>\n",
       "      <td>11</td>\n",
       "    </tr>\n",
       "    <tr>\n",
       "      <th>Theodore von Kármán</th>\n",
       "      <td>11</td>\n",
       "    </tr>\n",
       "    <tr>\n",
       "      <th>Barry Mazur</th>\n",
       "      <td>11</td>\n",
       "    </tr>\n",
       "    <tr>\n",
       "      <th>Hans Bethe</th>\n",
       "      <td>11</td>\n",
       "    </tr>\n",
       "    <tr>\n",
       "      <th>Manuel Blum</th>\n",
       "      <td>10</td>\n",
       "    </tr>\n",
       "  </tbody>\n",
       "</table>\n",
       "</div>"
      ],
      "text/plain": [
       "                        dst\n",
       "src                        \n",
       "Dimitris Bertsimas       32\n",
       "Franz Boas               25\n",
       "Robert Solow             21\n",
       "Arnold Sommerfeld        19\n",
       "Alonzo Church            19\n",
       "David Hilbert            18\n",
       "John Archibald Wheeler   16\n",
       "Felix Klein              15\n",
       "Salomon Bochner          14\n",
       "Garrett Birkhoff         13\n",
       "Richard Karp             13\n",
       "John Tate                13\n",
       "Elias Stein              12\n",
       "Marvin Minsky            12\n",
       "Noam Chomsky             11\n",
       "Irving Segal             11\n",
       "Theodore von Kármán      11\n",
       "Barry Mazur              11\n",
       "Hans Bethe               11\n",
       "Manuel Blum              10"
      ]
     },
     "execution_count": 32,
     "metadata": {},
     "output_type": "execute_result"
    }
   ],
   "source": [
    "pd.DataFrame(list(nx.bridges(graph))).rename(columns={0: 'src', 1: 'dst'}).groupby('src').count().sort_values(by='dst', ascending=False).head(20)"
   ]
  },
  {
   "cell_type": "markdown",
   "metadata": {},
   "source": [
    "## DiGraph"
   ]
  },
  {
   "cell_type": "code",
   "execution_count": 33,
   "metadata": {},
   "outputs": [
    {
     "name": "stdout",
     "output_type": "stream",
     "text": [
      "Name: \n",
      "Type: DiGraph\n",
      "Number of nodes: 7070\n",
      "Number of edges: 8071\n",
      "Average in degree:   1.1416\n",
      "Average out degree:   1.1416\n"
     ]
    }
   ],
   "source": [
    "digraph = nx.from_pandas_edgelist(supervision_df, 'supervisor', 'student', edge_attr=None, create_using = nx.DiGraph())\n",
    "print(nx.info(digraph))"
   ]
  },
  {
   "cell_type": "code",
   "execution_count": 37,
   "metadata": {},
   "outputs": [
    {
     "name": "stdout",
     "output_type": "stream",
     "text": [
      "Joseph-Louis Lagrange  has betweeness: 0.002\n",
      "Leonhard Euler  has betweeness: 0.002\n",
      "Johann Bernoulli  has betweeness: 0.002\n",
      "Siméon Poisson  has betweeness: 0.001\n",
      "Felix Klein  has betweeness: 0.001\n",
      "Peter Dirichlet  has betweeness: 0.001\n",
      "Nikolaus Eglinger  has betweeness: 0.001\n",
      "Emmanuel Stupanus  has betweeness: 0.001\n",
      "Rudolf Lipschitz  has betweeness: 0.001\n",
      "Ferdinand von Lindemann  has betweeness: 0.001\n",
      "Carl Gauss  has betweeness: 0.001\n",
      "Johann Pfaff  has betweeness: 0.001\n",
      "Petrus Ryff  has betweeness: 0.001\n",
      "Michel Chasles  has betweeness: 0.001\n",
      "Theodor Zwinger  has betweeness: 0.001\n"
     ]
    }
   ],
   "source": [
    "betweenness = nx.betweenness_centrality(digraph)\n",
    "# Assign each to an attribute in your network\n",
    "nx.set_node_attributes(digraph, betweenness, 'betweenness')\n",
    "sorted_betweenness = sorted(betweenness.items(), key=itemgetter(1), reverse=True)\n",
    "\n",
    "for person, bw in sorted_betweenness[:15]:\n",
    "    print(person, ' has betweeness: %.3f' %bw)"
   ]
  },
  {
   "cell_type": "code",
   "execution_count": 68,
   "metadata": {},
   "outputs": [],
   "source": [
    "def weak_eccentricity(G):\n",
    "    # Exaclty like eccentricity, but when a node is unreachable\n",
    "    # the distance is 0. This is only worth to use the max\n",
    "    # eccentricity which otherwise is not possible on a\n",
    "    # weakly connected directed graph\n",
    "    order=G.order()\n",
    "\n",
    "    e={}\n",
    "    for n in G.nbunch_iter(None):\n",
    "        length=nx.single_source_shortest_path_length(G,n)\n",
    "        L = len(length)\n",
    "        if L != order:\n",
    "            L = 0\n",
    "            \n",
    "        e[n]=max(length.values())\n",
    "\n",
    "    return e"
   ]
  },
  {
   "cell_type": "code",
   "execution_count": 72,
   "metadata": {},
   "outputs": [
    {
     "name": "stdout",
     "output_type": "stream",
     "text": [
      "Marco Musuro  has eccentricity: 26\n",
      "Nicoletto Vernia  has eccentricity: 26\n",
      "Ognibene da Lonigo  has eccentricity: 26\n",
      "Pietro Roccabonella  has eccentricity: 26\n",
      "Giovanni Battista della Monte  has eccentricity: 25\n",
      "Giovanni Manardo  has eccentricity: 25\n",
      "Johannes Baptista Montanus  has eccentricity: 25\n",
      "Niccolò Leoniceno  has eccentricity: 25\n",
      "Pietro Pomponazzi  has eccentricity: 25\n",
      "Antonio Musa Brassavola  has eccentricity: 24\n"
     ]
    }
   ],
   "source": [
    "eccentricity = weak_eccentricity(digraph)\n",
    "# Assign each to an attribute in your network\n",
    "nx.set_node_attributes(digraph, eccentricity, 'eccentricity')\n",
    "sorted_eccentricity = sorted(eccentricity.items(), key=itemgetter(1), reverse=True)\n",
    "\n",
    "for person, ecc in sorted_eccentricity[:10]:\n",
    "    print(person, ' has eccentricity: %d' %ecc)"
   ]
  },
  {
   "cell_type": "code",
   "execution_count": 83,
   "metadata": {},
   "outputs": [
    {
     "data": {
      "text/plain": [
       "17"
      ]
     },
     "execution_count": 83,
     "metadata": {},
     "output_type": "execute_result"
    }
   ],
   "source": [
    "dict(sorted_eccentricity)['Joseph-Louis Lagrange']"
   ]
  },
  {
   "cell_type": "code",
   "execution_count": 114,
   "metadata": {},
   "outputs": [],
   "source": [
    "def subgraph(G, node):\n",
    "    students = list(digraph.neighbors(node))\n",
    "    advisors = list(digraph.predecessors(node))\n",
    "    subG_nodes = [node] + students# + advisors\n",
    "    return G.subgraph(subG_nodes)"
   ]
  },
  {
   "cell_type": "code",
   "execution_count": 122,
   "metadata": {},
   "outputs": [],
   "source": [
    "sdg = subgraph(digraph, 'Marco Musuro')"
   ]
  },
  {
   "cell_type": "code",
   "execution_count": 124,
   "metadata": {},
   "outputs": [
    {
     "data": {
      "image/png": "[encoded data removed]",
      "text/plain": [
       "<Figure size 720x720 with 1 Axes>"
      ]
     },
     "metadata": {},
     "output_type": "display_data"
    }
   ],
   "source": [
    "from networkx.drawing.nx_agraph import write_dot, graphviz_layout\n",
    "import matplotlib.pyplot as plt\n",
    "\n",
    "plt.figure(figsize=(10,10))\n",
    "\n",
    "pos = graphviz_layout(sdg, prog='dot')\n",
    "nx.draw(sdg, pos, with_labels=True, arrows=False)\n",
    "plt.show()"
   ]
  },
  {
   "cell_type": "code",
   "execution_count": null,
   "metadata": {},
   "outputs": [],
   "source": []
  }
 ],
 "metadata": {
  "kernelspec": {
   "display_name": "Python 3",
   "language": "python",
   "name": "python3"
  },
  "language_info": {
   "codemirror_mode": {
    "name": "ipython",
    "version": 3
   },
   "file_extension": ".py",
   "mimetype": "text/x-python",
   "name": "python",
   "nbconvert_exporter": "python",
   "pygments_lexer": "ipython3",
   "version": "3.8.1"
  }
 },
 "nbformat": 4,
 "nbformat_minor": 4
}
